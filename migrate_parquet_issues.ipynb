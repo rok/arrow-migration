{
 "cells": [
  {
   "cell_type": "code",
   "execution_count": null,
   "id": "80239dd8-6a7d-4601-9a2d-2a350b9f7c22",
   "metadata": {},
   "outputs": [],
   "source": [
    "import csv\n",
    "import os\n",
    "import re\n",
    "import time\n",
    "from datetime import datetime\n",
    "from dateutil.rrule import rrule, MONTHLY, YEARLY\n",
    "\n",
    "import requests\n",
    "\n",
    "import migration_helpers\n",
    "\n",
    "# suffix = \"_test\"\n",
    "suffix = \"\"\n",
    "\n",
    "JIRA_CREDENTIALS = {\n",
    "    \"token_auth\": \"\",\n",
    "    \"server\": \"https://issues.apache.org/jira/\",\n",
    "    \"async_\": True\n",
    "}\n",
    "GITHUB_CREDENTIALS = {\n",
    "    \"X-Github-Next-Global-ID\": \"1\",\n",
    "    \"Authorization\": \"token ghp_\",\n",
    "    \"User-Agent\": \"asfimport\",\n",
    "    \"Accept\": \"application/vnd.github.golden-comet-preview+json\"\n",
    "}\n",
    "\n",
    "JIRA_PROJECT_NAME = \"parquet\"\n",
    "MIGRATION_DOC_URL = \"https://issues.apache.org/jira/browse/PARQUET-2502\"\n",
    "IMPORT_URL = \"https://api.github.com/repos/{}/{}/import/issues\"\n",
    "\n",
    "JIRA_MIGRATION_NOTE = \"This issue has been migrated to [issue #{gh_id}|{gh_url}] on GitHub. \" \\\n",
    "    \"Please see the \" \\\n",
    "    \"[migration documentation|https://issues.apache.org/jira/browse/PARQUET-2502] \" \\\n",
    "    \"for further details.\"\n",
    "ARROW_GITHUB_OWNER = \"apache\"\n",
    "\n",
    "jira_to_github_user_mapping_file = \"jira-to-github-user-mapping.csv\"\n",
    "issue_subscriptions_file = os.path.join(JIRA_PROJECT_NAME + suffix, \"issue_subscriptions.csv\")"
   ]
  },
  {
   "cell_type": "markdown",
   "id": "5222c4d4-4524-4e67-a678-22aab7ab0f3a",
   "metadata": {},
   "source": [
    "# Get Jira issue data and cache\n",
    "Note: Jira should be read/write at this point as watchers will not be visible otherwise"
   ]
  },
  {
   "cell_type": "code",
   "execution_count": null,
   "id": "0505c4b0-827b-4c0e-a0c9-3a82c523c07c",
   "metadata": {},
   "outputs": [],
   "source": [
    "%%time\n",
    "ISSUES, WATCHERS, REMOTE_LINKS, TRANSLATED_MARKUP, USER_MAPPING = migration_helpers.get_and_cache_jira_data(\n",
    "    JIRA_PROJECT_NAME, JIRA_CREDENTIALS, jira_to_github_user_mapping_file, cache_folder=JIRA_PROJECT_NAME + suffix)\n",
    "\n",
    "munged_issues = migration_helpers.munge_issues(ISSUES, REMOTE_LINKS, WATCHERS)"
   ]
  },
  {
   "cell_type": "code",
   "execution_count": null,
   "id": "db1d428e-10d0-4794-8f91-0f961e6a69fb",
   "metadata": {},
   "outputs": [],
   "source": [
    "# ARROW_USER_CAN_BE_ASSIGNEE = \\\n",
    "# migration_helpers.get_assignable_users(ARROW_GITHUB_OWNER, \"arrow\", USER_MAPPING.values(), GITHUB_CREDENTIALS)\n",
    "ARROW_USER_CAN_BE_ASSIGNEE = ('wesm', 'kou', 'pitrou', 'kszucs', 'nealrichardson', 'xhochy', 'lidavidm',\n",
    "    'jorisvandenbossche', 'andygrove', 'bkietz', 'jorgecarleitao', 'liyafan82', 'westonpace', 'zeroshade',\n",
    "    'thisisnic', 'fsaintjacques', 'AlenkaF', 'jonkeane', 'nevi-me', 'emkornfield', 'tianchen92', 'alamb',\n",
    "    'cyb70289', 'pcmoritz', 'shiro615', 'Dandandan', 'romainfrancois', 'cpcloud', 'BryanCutler', 'raulcd',\n",
    "    'sbinet', 'rok', 'mrkn', 'wjones127', 'trxcllnt', 'julienledem', 'kiszk', 'domoritz', 'paddyhoran',\n",
    "    'ianmcook', 'amol-', 'pravindra', 'assignUser', 'paleolimbot', 'sunchao', 'houqp', 'TheNeuralBit',\n",
    "    'robertnishihara', 'vibhatha', 'praveenbingo', 'siddharthteotia', 'emkornfield', 'eerhardt', 'js8544',\n",
    "    'icexelloss', 'crepererum', 'jduo', 'tustvold', 'kevingurney', 'majetideepak', 'quinnj', 'jorgecarleitao',\n",
    "    'benibus', 'waynexia', 'anjakefala', 'jacques-n', 'wgtmac', 'amoeba', 'liukun4515', 'andygrove', 'ptgoetz',\n",
    "    'sgilmore10', 'zanmato1984', 'assignUser', 'mapleFU', 'parthchandra', 'yjshen', 'viirya', 'Ted-Jiang', 'alkis')\n",
    "\n",
    "# ARROW_USER_CAN_BE_ASSIGNEE = ('rok',)"
   ]
  },
  {
   "cell_type": "markdown",
   "id": "3f373ccd-9de2-4a3d-9e20-87cddb08bf5a",
   "metadata": {},
   "source": [
    "# Generate GitHub import payloads"
   ]
  },
  {
   "cell_type": "code",
   "execution_count": null,
   "id": "c07d914e-0470-48de-b5f0-d0655cc1080c",
   "metadata": {},
   "outputs": [],
   "source": [
    "ARROW_RELEASE_REMAP = {\n",
    "    \"cpp-4.0.0\": \"4.0.0\", \"cpp-5.0.0\": \"5.0.0\", \"cpp-6.0.0\": \"6.0.0\",\n",
    "    \"cpp-7.0.0\": \"7.0.0\", \"cpp-8.0.0\": \"8.0.0\", \"cpp-9.0.0\": \"9.0.0\",\n",
    "    \"cpp-10.0.0\": \"10.0.0\", \"cpp-11.0.0\": \"11.0.0\", \"cpp-12.0.0\": \"12.0.0\",\n",
    "    \"cpp-13.0.0\": \"13.0.0\", \"cpp-15.0.0\": \"15.0.0\", \"cpp-16.0.0\": \"16.0.0\",\n",
    "}\n",
    "\n",
    "ARROW_RELEASE_ORDER = (\n",
    "    '0.1.0', '0.2.0', '0.3.0', 'JS-0.3.0', 'JS-0.3.1', '0.4.0', 'JS-0.4.0',\n",
    "    '0.4.1', 'JS-0.4.1', '0.5.0', '0.6.0', '0.7.0', '0.7.1', '0.8.0',\n",
    "    '0.9.0', '0.10.0', '0.11.0', '0.11.1', '0.12.0', '0.12.1', '0.13.0',\n",
    "    '0.14.0', '0.14.1', '0.15.0', '0.15.1', '0.16.0', '0.17.0', '0.17.1',\n",
    "    '1.0.0', '1.0.1', '2.0.0', '3.0.0', '4.0.0', '3.0.1', '4.0.1', '5.0.0',\n",
    "    '6.0.0', '5.0.1', '6.0.1', '6.0.2', '6.0.3', '7.0.0', '7.0.1', '7.0.2',\n",
    "    '8.0.0', '8.0.1', '9.0.0', '9.0.1', '10.0.0', '10.0.1', '10.0.2',\n",
    "    '11.0.0', '12.0.0',\n",
    "    '12.0.1', '13.0.0', '14.0.0', '14.0.1', '14.0.2',\n",
    "    '15.0.0', '15.0.1', '15.0.2', '16.0.0', '16.1.0', '17.0.0', '18.0.0',\n",
    ")\n",
    "\n",
    "PARQUET_JAVA_MILESTONES = [\n",
    "    '1.10.0', '1.10.1', '1.10.2', '1.11.0', '1.11.1', '1.11.2', '1.12.0', '1.12.1',\n",
    "    '1.12.2', '1.12.3', '1.13.0', '1.13.1', '1.13.2', '1.14.0', '1.14.1', '1.15.0',\n",
    "    '1.6.0', '1.6.1', '1.7.0', '1.8.0', '1.8.1', '1.8.2', '1.8.3', '1.9.0', '2.0.0'\n",
    "]\n",
    "\n",
    "PARQUET_FORMAT_RELEASE_REMAP = {\n",
    "    'format-2.10.0': '2.10.0', 'format-2.11.0': '2.11.0', 'format-2.3.1': '2.3.1',\n",
    "    'format-2.4.0': '2.4.0', 'format-2.5.0': '2.5.0', 'format-2.7.0': '2.7.0',\n",
    "    'format-2.8.0': '2.8.0', 'format-2.9.0': '2.9.0'\n",
    "}\n",
    "\n",
    "ARROW_ISSUETYPE_MAP = {\n",
    "    \"Bug\": \"Type: bug\",\n",
    "    \"Improvement\": \"Type: enhancement\",\n",
    "    \"Wish\": \"Type: enhancement\",\n",
    "    \"New Feature\": \"Type: enhancement\",\n",
    "    \"Task\": \"Type: task\",\n",
    "    \"Sub-task\": \"Type: task\",\n",
    "    \"Test\": \"Type: test\"\n",
    "}\n",
    "ARROW_LABEL_MAP = {\n",
    "    \"beginner\": \"good-first-issue\",\n",
    "    \"n00b\": \"good-first-issue\",\n",
    "    \"newbe\": \"good-first-issue\",\n",
    "    \"newbie\": \"good-first-issue\",\n",
    "    \"noob\": \"good-first-issue\",\n",
    "    \"starter\": \"good-first-issue\",\n",
    "    \"build\": \"Component: Developer Tools\",\n",
    "    \"c++\": \"Component: C++\",\n",
    "    \"parquet-cpp\": \"Component: C++\",\n",
    "    \"documentation\": \"Component: Documentation\",\n",
    "    \"docs\": \"Component: Documentation\",\n",
    "    \"features\": \"Type: enhancement\",\n",
    "    \"bug\": \"Type: bug\",\n",
    "    \"parquet-avro\": \"Component: Avro\",\n",
    "    \"parquet-cascading\": \"Component: Cascading\",\n",
    "    \"parquet-cli\": \"Component: CLI\",\n",
    "    \"parquet-format\": \"Component: Format\",\n",
    "    \"parquet-hadoop\": \"Component: Hadoop\",\n",
    "    \"parquet-java\": \"Component: Java\",\n",
    "    \"parquet-mr\": \"Component: Java\",\n",
    "    \"parquet-pig\": \"Component: Pig\",\n",
    "    \"parquet-protobuf\": \"Component: Protobuf\",\n",
    "    \"parquet-site\": \"Component: Site\",\n",
    "    \"parquet-testing\": \"Component: Testing\",\n",
    "    \"parquet-thrift\": \"Component: Thrift\",\n",
    "}\n",
    "\n",
    "# TESTING ONLY!\n",
    "# Create milestones in the target repo\n",
    "# milestones = [{\"title\": x} for x in ARROW_RELEASE_ORDER]\n",
    "# milestone_map = migration_helpers.make_milestones(milestones, \"rok\", \"test-parquet-cpp\", GITHUB_CREDENTIALS)\n",
    "# ARROW_MILESTONE_MAP = migration_helpers.get_milestone_map(\"rok\", \"test-parquet-cpp\", GITHUB_CREDENTIALS)\n",
    "# /TESTING ONLY!"
   ]
  },
  {
   "cell_type": "code",
   "execution_count": null,
   "id": "ad92486d-1858-4f05-97fa-288c96114393",
   "metadata": {},
   "outputs": [],
   "source": [
    "# WARNING: RUN ONCE ONLY\n",
    "# Create milestones in the target repo\n",
    "parquet_java_milestones = [{\"title\": x} for x in PARQUET_JAVA_MILESTONES]\n",
    "parquet_format_milestones = [{\"title\": x} for x in PARQUET_FORMAT_RELEASE_REMAP.values()]\n",
    "_ = migration_helpers.make_milestones(parquet_java_milestones, ARROW_GITHUB_OWNER, \"parquet-java\", GITHUB_CREDENTIALS)\n",
    "_ = migration_helpers.make_milestones(parquet_format_milestones, ARROW_GITHUB_OWNER, \"parquet-format\", GITHUB_CREDENTIALS)\n",
    "\n",
    "# Create labels in the target repo\n",
    "NON_CPP_LABELS  = [{\"name\": name} for name in [\n",
    "    'Component: Avro', 'Component: C++', 'Component: CLI', 'Component: Cascading', 'Component: Format', 'Component: Hadoop',\n",
    "    'Component: Java', 'Component: Parquet', 'Component: Pig', 'Component: Protobuf', 'Component: Site', 'Component: Testing',\n",
    "    'Component: Thrift', 'Priority: Blocker', 'Priority: Critical', 'Priority: Major', 'Priority: Minor', 'Priority: Trivial',\n",
    "    'Type: bug', 'Type: enhancement', 'Type: task', 'Type: test'\n",
    "]]\n",
    "\n",
    "migration_helpers.make_labels(NON_CPP_LABELS, ARROW_GITHUB_OWNER, \"parquet-java\", GITHUB_CREDENTIALS)\n",
    "migration_helpers.make_labels(NON_CPP_LABELS, ARROW_GITHUB_OWNER, \"parquet-format\", GITHUB_CREDENTIALS)\n",
    "migration_helpers.make_labels(NON_CPP_LABELS, ARROW_GITHUB_OWNER, \"parquet-site\", GITHUB_CREDENTIALS)\n",
    "migration_helpers.make_labels(NON_CPP_LABELS, ARROW_GITHUB_OWNER, \"parquet-testing\", GITHUB_CREDENTIALS)"
   ]
  },
  {
   "cell_type": "code",
   "execution_count": null,
   "id": "bee0a872-ec3e-4327-9468-4e056b5cc9d2",
   "metadata": {},
   "outputs": [],
   "source": [
    "ARROW_MILESTONE_MAP = migration_helpers.get_milestone_map(ARROW_GITHUB_OWNER, \"arrow\", GITHUB_CREDENTIALS)\n",
    "PARQUET_FORMAT_MILESTONE_MAP = migration_helpers.get_milestone_map(ARROW_GITHUB_OWNER, \"parquet-format\", GITHUB_CREDENTIALS)\n",
    "PARQUET_JAVA_MILESTONE_MAP = migration_helpers.get_milestone_map(ARROW_GITHUB_OWNER, \"parquet-java\", GITHUB_CREDENTIALS)"
   ]
  },
  {
   "cell_type": "code",
   "execution_count": null,
   "id": "7a624cb4-dc13-47c2-800f-622ec236da44",
   "metadata": {},
   "outputs": [],
   "source": [
    "# Correct labels and milestones\n",
    "for i, munged_issue in enumerate(munged_issues):\n",
    "    issue_type = ARROW_ISSUETYPE_MAP[munged_issue[\"issuetype\"]]\n",
    "    components = [ARROW_LABEL_MAP.get(c.name, None) for c in munged_issue[\"components\"]]\n",
    "    priority = f\"Priority: {munged_issue['priority']}\"\n",
    "\n",
    "    munged_issues[i][\"labels\"] = [issue_type, priority, *components, \"Component: Parquet\"]"
   ]
  },
  {
   "cell_type": "markdown",
   "id": "4ddec88b-9f40-4eee-be5a-c21f96bc302d",
   "metadata": {},
   "source": [
    "# Determine which issue tracker should the ticket be migrated to"
   ]
  },
  {
   "cell_type": "code",
   "execution_count": null,
   "id": "c03a4de7-bdf4-4f32-9441-4d69df1a5ad3",
   "metadata": {},
   "outputs": [],
   "source": [
    "java_components = (\"parquet-avro\", \"parquet-cascading\", \"parquet-cli\", \"parquet-hadoop\", \"parquet-mr\",\n",
    "                   \"parquet-pig\", \"parquet-protobuf\", \"parquet-thrift\")\n",
    "\n",
    "for i, munged_issue in enumerate(munged_issues):\n",
    "    is_java = any([c.name in java_components for c in munged_issue[\"components\"]])\n",
    "    is_cpp = any([c.name == \"parquet-cpp\" for c in munged_issue[\"components\"]])\n",
    "    is_format = any([c.name == \"parquet-format\" for c in munged_issue[\"components\"]])\n",
    "    is_site = any([c.name == \"parquet-site\" for c in munged_issue[\"components\"]])\n",
    "    is_testing = any([c.name == \"parquet-testing\" for c in munged_issue[\"components\"]])\n",
    "\n",
    "    if is_java:\n",
    "        munged_issue[\"repo\"] = \"parquet-java\"\n",
    "    elif is_format:\n",
    "        munged_issue[\"repo\"] = \"parquet-format\"\n",
    "    elif is_site:\n",
    "        munged_issue[\"repo\"] = \"parquet-site\"\n",
    "    elif is_testing:\n",
    "        munged_issue[\"repo\"] = \"parquet-testing\"\n",
    "    elif is_cpp:\n",
    "        munged_issue[\"repo\"] = \"parquet-cpp\"\n",
    "    else:\n",
    "        munged_issue[\"repo\"] = \"parquet-java\"\n",
    "\n",
    "java_munged_issues = [x for x in munged_issues if x[\"repo\"] == \"parquet-java\"]\n",
    "format_munged_issues = [x for x in munged_issues if x[\"repo\"] == \"parquet-format\"]\n",
    "site_munged_issues = [x for x in munged_issues if x[\"repo\"] == \"parquet-site\"]\n",
    "testing_munged_issues = [x for x in munged_issues if x[\"repo\"] == \"parquet-testing\"]\n",
    "cpp_munged_issues = [x for x in munged_issues if x[\"repo\"] == \"parquet-cpp\"]"
   ]
  },
  {
   "cell_type": "code",
   "execution_count": null,
   "id": "535e32d2-06b0-45b2-b42a-77086765d8cf",
   "metadata": {},
   "outputs": [],
   "source": [
    "# import pandas as pd\n",
    "# df = pd.DataFrame(munged_issues)\n",
    "# df.sample(2)"
   ]
  },
  {
   "cell_type": "markdown",
   "id": "c2e75847-2722-41c0-be55-5d64a5500091",
   "metadata": {},
   "source": [
    "# Prepare payloads to be sent to GitHub"
   ]
  },
  {
   "cell_type": "code",
   "execution_count": null,
   "id": "f7e60e03-8062-4dee-a888-28d4665c8821",
   "metadata": {
    "scrolled": true
   },
   "outputs": [],
   "source": [
    "# Correct milestones\n",
    "\n",
    "for i, munged_issue in enumerate(format_munged_issues):\n",
    "    if munged_issue[\"fixVersion\"]:\n",
    "        releases = sorted([x.name for x in munged_issue[\"fixVersion\"] if x.name in PARQUET_FORMAT_RELEASE_REMAP])\n",
    "        if releases:\n",
    "            format_munged_issues[i][\"milestone\"] = PARQUET_FORMAT_MILESTONE_MAP[PARQUET_FORMAT_RELEASE_REMAP[releases[0]]]\n",
    "\n",
    "for i, munged_issue in enumerate(java_munged_issues):\n",
    "    if munged_issue[\"fixVersion\"]:\n",
    "        releases = sorted([x.name for x in munged_issue[\"fixVersion\"] if x.name in PARQUET_JAVA_MILESTONES])\n",
    "        if releases:\n",
    "            java_munged_issues[i][\"milestone\"] = PARQUET_JAVA_MILESTONE_MAP[releases[0]]\n",
    "\n",
    "\n",
    "for i, munged_issue in enumerate(cpp_munged_issues):\n",
    "    cpp_munged_issues[i][\"title\"] = \"[C++][Parquet] \" + cpp_munged_issues[i][\"title\"].lstrip(\"[C++] \").lstrip(\" : \")\n",
    "\n",
    "    if munged_issue[\"fixVersion\"]:\n",
    "        releases = [ARROW_RELEASE_REMAP[x.name] for x in munged_issue[\"fixVersion\"] if x.name in ARROW_RELEASE_REMAP]\n",
    "        if releases:\n",
    "            earliest_fix_version = sorted([x for x in releases], key=lambda y: ARROW_RELEASE_ORDER.index(y))[0]\n",
    "            cpp_munged_issues[i][\"milestone\"] = ARROW_MILESTONE_MAP[earliest_fix_version]"
   ]
  },
  {
   "cell_type": "code",
   "execution_count": null,
   "id": "21d22916-0ea1-40eb-9b20-9bf55424c043",
   "metadata": {
    "scrolled": true
   },
   "outputs": [],
   "source": [
    "cpp_payloads = [migration_helpers.generate_payload(\n",
    "    i, USER_MAPPING, TRANSLATED_MARKUP, WATCHERS, MIGRATION_DOC_URL, ARROW_USER_CAN_BE_ASSIGNEE) for i in cpp_munged_issues]\n",
    "\n",
    "java_payloads = [migration_helpers.generate_payload(\n",
    "    i, USER_MAPPING, TRANSLATED_MARKUP, WATCHERS, MIGRATION_DOC_URL, ()) for i in java_munged_issues]\n",
    "\n",
    "format_payloads = [migration_helpers.generate_payload(\n",
    "    i, USER_MAPPING, TRANSLATED_MARKUP, WATCHERS, MIGRATION_DOC_URL, ()) for i in format_munged_issues]\n",
    "\n",
    "site_payloads = [migration_helpers.generate_payload(\n",
    "    i, USER_MAPPING, TRANSLATED_MARKUP, WATCHERS, MIGRATION_DOC_URL, ()) for i in site_munged_issues]\n",
    "\n",
    "testing_payloads = [migration_helpers.generate_payload(\n",
    "    i, USER_MAPPING, TRANSLATED_MARKUP, WATCHERS, MIGRATION_DOC_URL, ()) for i in testing_munged_issues]"
   ]
  },
  {
   "cell_type": "markdown",
   "id": "7362ccbd-a297-4bc2-a049-c0dc9662e35b",
   "metadata": {},
   "source": [
    "# Import issues into GitHub"
   ]
  },
  {
   "cell_type": "code",
   "execution_count": null,
   "id": "f3904b5e-39f2-4d30-aadd-8bc58731414a",
   "metadata": {},
   "outputs": [],
   "source": [
    "%%time\n",
    "def import_into_github(payloads, import_url, github_credentials):\n",
    "    import_responses = {}\n",
    "    with requests.Session() as s:\n",
    "        for i, (key, payload) in enumerate(payloads):\n",
    "            if key in import_responses:\n",
    "                continue\n",
    "            if (i % 100 == 0):\n",
    "                print(f\"[{time.strftime('%Y-%m-%d %H:%M:%S')}] importing \", i, \"/\", len(payloads))\n",
    "    \n",
    "            params = {\"method\": \"POST\", \"url\": import_url, \"json\": payload, \"headers\": GITHUB_CREDENTIALS}\n",
    "            response = migration_helpers.request_to_github(params, s)\n",
    "            import_responses[key] = {\"import_response\": response, \"status\": \"\"}\n",
    "\n",
    "    return import_responses\n",
    "\n",
    "cpp_import_responses = import_into_github(\n",
    "    cpp_payloads, IMPORT_URL.format(ARROW_GITHUB_OWNER, \"arrow\"), GITHUB_CREDENTIALS)\n",
    "\n",
    "java_import_responses = import_into_github(\n",
    "    java_payloads, IMPORT_URL.format(ARROW_GITHUB_OWNER, \"parquet-java\"), GITHUB_CREDENTIALS)\n",
    "\n",
    "format_import_responses = import_into_github(\n",
    "    format_payloads, IMPORT_URL.format(ARROW_GITHUB_OWNER, \"parquet-format\"), GITHUB_CREDENTIALS)\n",
    "\n",
    "site_import_responses = import_into_github(\n",
    "    site_payloads, IMPORT_URL.format(ARROW_GITHUB_OWNER, \"parquet-site\"), GITHUB_CREDENTIALS)\n",
    "\n",
    "testing_import_responses = import_into_github(\n",
    "    testing_payloads, IMPORT_URL.format(ARROW_GITHUB_OWNER, \"parquet-testing\"), GITHUB_CREDENTIALS)"
   ]
  },
  {
   "cell_type": "markdown",
   "id": "d3b17c86-cd1d-4ff2-a3c2-a5699d309ede",
   "metadata": {},
   "source": [
    "# Get created issue's urls to map them to Jira tickets"
   ]
  },
  {
   "cell_type": "code",
   "execution_count": null,
   "id": "e49dbe7a-990f-4d1d-b07f-9c5754cda03e",
   "metadata": {
    "scrolled": true
   },
   "outputs": [],
   "source": [
    "%%time\n",
    "\n",
    "def get_github_issue_urls(github_owner, github_repo, github_credentials, period=YEARLY):\n",
    "    dates = rrule(period, interval=1, dtstart=datetime.strptime(\"2013\", \"%Y\"),\n",
    "                  until=datetime.strptime(\"2025\", \"%Y\"))\n",
    "    fmt = \"%Y-%m-%d\"\n",
    "    intervals = [f\"{x.strftime(fmt)}..{y.strftime(fmt)}\" for x, y in zip(dates, dates[1:])]\n",
    "    \n",
    "    results = []\n",
    "    for interval in intervals:\n",
    "        results += migration_helpers.get_issues(\n",
    "            owner=github_owner, repo=github_repo, interval=interval, github_credentials=github_credentials)\n",
    "        print(interval, len(results))\n",
    "\n",
    "    def get_key(body):\n",
    "        try:\n",
    "            return re.findall(r\"(PARQUET-\\d+).\", body)[-1]\n",
    "        except:\n",
    "            # Bad regex in PARQUET-1546\n",
    "            return \"PARQUET-1546\"\n",
    "\n",
    "    github_urls = {get_key(x[\"bodyText\"]): x[\"url\"] for x in results}\n",
    "    github_ids = {x[\"url\"]: x[\"id\"] for x in results}\n",
    "    return github_urls, github_ids\n",
    "\n",
    "github_info = [\n",
    "    get_github_issue_urls(ARROW_GITHUB_OWNER, \"arrow\", GITHUB_CREDENTIALS, period=MONTHLY),\n",
    "    get_github_issue_urls(ARROW_GITHUB_OWNER, \"parquet-java\", GITHUB_CREDENTIALS),\n",
    "    get_github_issue_urls(ARROW_GITHUB_OWNER, \"parquet-format\", GITHUB_CREDENTIALS),\n",
    "    get_github_issue_urls(ARROW_GITHUB_OWNER, \"parquet-site\", GITHUB_CREDENTIALS),\n",
    "    get_github_issue_urls(ARROW_GITHUB_OWNER, \"parquet-testing\", GITHUB_CREDENTIALS),\n",
    "]\n",
    "\n",
    "GITHUB_URLS = {k: v for d in github_info for k, v in d[0].items()}\n",
    "GITHUB_IDS = {k: v for d in github_info for k, v in d[1].items()}"
   ]
  },
  {
   "cell_type": "markdown",
   "id": "1a782f97-31b7-487a-9710-10ebebb76f23",
   "metadata": {},
   "source": [
    "# Update cross issue links on GitHub to link to GitHub issues"
   ]
  },
  {
   "cell_type": "code",
   "execution_count": null,
   "id": "79a0ca38-7e7a-4691-81cd-529d0074e46b",
   "metadata": {
    "scrolled": true
   },
   "outputs": [],
   "source": [
    "all_payloads = [*cpp_payloads, *java_payloads, *format_payloads, *site_payloads, *testing_payloads]\n",
    "new_issue_bodies = migration_helpers.fix_issue_bodies(ISSUES, all_payloads, GITHUB_URLS)\n",
    "print(f\"Updating {len(new_issue_bodies)} issue bodies with corrected links.\")\n",
    "_ = migration_helpers.update_gh_issue_links(new_issue_bodies, GITHUB_URLS, GITHUB_CREDENTIALS)"
   ]
  },
  {
   "cell_type": "markdown",
   "id": "fd341c6a-2f17-447d-988e-45a8eeb73bd6",
   "metadata": {},
   "source": [
    "# Create a self subscription dataset"
   ]
  },
  {
   "cell_type": "code",
   "execution_count": null,
   "id": "0c0399a5-80ed-4e82-a579-60bd0129e31c",
   "metadata": {},
   "outputs": [],
   "source": [
    "issue_subscriptions = [\n",
    "    *[(watcher.key, \"watcher\", issue.key) for issue in ISSUES for watcher in WATCHERS[issue.id].watchers],\n",
    "    *[(issue.fields.reporter.key, \"reporter\", issue.key) for issue in ISSUES if issue.fields.reporter],\n",
    "    *[(issue.fields.creator.key, \"creator\", issue.key) for issue in ISSUES if issue.fields.creator],\n",
    "    *[(issue.fields.assignee.key, \"assignee\", issue.key) for issue in ISSUES if issue.fields.assignee]\n",
    "]\n",
    "\n",
    "issue_subscriptions = [(USER_MAPPING[usr], usr_type, GITHUB_URLS[key], GITHUB_IDS[GITHUB_URLS[key]], key)\n",
    "                       for usr, usr_type, key in issue_subscriptions if usr in USER_MAPPING]\n",
    "\n",
    "with open(issue_subscriptions_file, 'w') as f:\n",
    "    writer = csv.writer(f)\n",
    "\n",
    "    for issue_subscription in issue_subscriptions:\n",
    "        writer.writerow(issue_subscription)"
   ]
  },
  {
   "cell_type": "markdown",
   "id": "99fc10ee-4a2f-4cd5-9fa8-95dcedb97fd8",
   "metadata": {},
   "source": [
    "# Update Jira issues to link to new GitHub Issues"
   ]
  },
  {
   "cell_type": "code",
   "execution_count": null,
   "id": "a97bf440-f9dd-41c3-984d-244c417d8076",
   "metadata": {
    "scrolled": true
   },
   "outputs": [],
   "source": [
    "%%time\n",
    "# WARNING: Please verify all issues were successfully imported before running this so links can be posted to Jira\n",
    "\n",
    "CONN = migration_helpers.get_jira_client(JIRA_CREDENTIALS)\n",
    "\n",
    "for issue in ISSUES:\n",
    "    print(issue.key)\n",
    "    migration_helpers.update_source_jira(issue, GITHUB_URLS[issue.key], JIRA_MIGRATION_NOTE, CONN)    "
   ]
  }
 ],
 "metadata": {
  "kernelspec": {
   "display_name": "Python 3 (ipykernel)",
   "language": "python",
   "name": "python3"
  },
  "language_info": {
   "codemirror_mode": {
    "name": "ipython",
    "version": 3
   },
   "file_extension": ".py",
   "mimetype": "text/x-python",
   "name": "python",
   "nbconvert_exporter": "python",
   "pygments_lexer": "ipython3",
   "version": "3.10.14"
  }
 },
 "nbformat": 4,
 "nbformat_minor": 5
}
